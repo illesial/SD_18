{
 "cells": [
  {
   "cell_type": "code",
   "execution_count": null,
   "metadata": {},
   "outputs": [],
   "source": [
    "### IN THIS NOTEBOOK, I IMPORT GEOGRPAHICAL SURVEY RESPONSE DATA AND A GEOGRPAHICAL SHAPEFILE,\n",
    "### CLEAN THE DATA, AND JOIN THE TWO DATASETS ON A COMMON INDEX. FINALLY, I WRITE THE RESULT OF THIS JOIN \n",
    "### TO A NEW SHAPEFILE."
   ]
  },
  {
   "cell_type": "code",
   "execution_count": 1,
   "metadata": {},
   "outputs": [],
   "source": [
    "### IMPORTING PACKAGES\n",
    "import geopandas as gpd\n",
    "import pandas as pd\n",
    "import numpy as np\n",
    "import shapely\n",
    "import matplotlib.pyplot as plt"
   ]
  },
  {
   "cell_type": "code",
   "execution_count": 2,
   "metadata": {},
   "outputs": [],
   "source": [
    "### SETTING FILE NAMES FOR SURVEY RESPONSE DATA AND GEOGRAPHICAL SHAPEFILES\n",
    "response_filename = 'C:\\\\users\\\\osman\\\\downloads\\\\SD18ResponsesbyED_7_20_18.csv'"
   ]
  },
  {
   "cell_type": "code",
   "execution_count": 3,
   "metadata": {},
   "outputs": [],
   "source": [
    "SD_18_EDs_filename='C:\\\\Users\\\\osman\\\\Downloads\\\\SD_18\\\\SD18EDs2.shp'\n",
    "SD_18_zones_filename = 'C:\\\\Users\\\\osman\\\\Downloads\\\\SD_18\\\\SD18Zones.shp'"
   ]
  },
  {
   "cell_type": "code",
   "execution_count": 4,
   "metadata": {},
   "outputs": [],
   "source": [
    "### READING FILES\n",
    "SD_18_EDs = gpd.read_file(SD_18_EDs_filename)\n",
    "SD_18_EDs=SD_18_EDs.to_crs({'init': 'epsg:4326'})\n",
    "#nyc_map=nyc_map.drop(['BoroCode', 'CountyFIPS', 'NTACode'], axis=1)\n",
    "SD_18_zones = gpd.read_file(SD_18_zones_filename)\n",
    "SD_18_zones=SD_18_zones.to_crs({'init': 'epsg:4326'})\n",
    "#SD_18_zones=SD_18_zones.drop(['BoroCode', 'CountyFIPS', 'NTACode'], axis=1)"
   ]
  },
  {
   "cell_type": "code",
   "execution_count": 5,
   "metadata": {},
   "outputs": [],
   "source": [
    "SD_18_response = pd.read_csv(response_filename)"
   ]
  },
  {
   "cell_type": "code",
   "execution_count": 24,
   "metadata": {},
   "outputs": [],
   "source": [
    "### SETTING EMPTY SURVEY ENTRIES TO ZERO\n",
    "SD_18_response = SD_18_response.fillna(value=0)"
   ]
  },
  {
   "cell_type": "code",
   "execution_count": 25,
   "metadata": {},
   "outputs": [],
   "source": [
    "### MAKING INDEXES MATCH FOR THE RESPONSE DATA AND THE GEOGRAPHICAL DATA\n",
    "SD_18_response['ADED'] = SD_18_response['ADED'].astype(int)"
   ]
  },
  {
   "cell_type": "code",
   "execution_count": null,
   "metadata": {},
   "outputs": [],
   "source": [
    "SD_18_EDs=SD_18_EDs.set_index('ElectDist')"
   ]
  },
  {
   "cell_type": "code",
   "execution_count": 28,
   "metadata": {},
   "outputs": [],
   "source": [
    "SD_18_response = SD_18_response.set_index('ADED')"
   ]
  },
  {
   "cell_type": "code",
   "execution_count": 29,
   "metadata": {},
   "outputs": [],
   "source": [
    "response_copy = SD_18_response.copy()"
   ]
  },
  {
   "cell_type": "code",
   "execution_count": 30,
   "metadata": {},
   "outputs": [],
   "source": [
    "response_copy=response_copy.reindex(SD_18_EDs.index, fill_value=0)"
   ]
  },
  {
   "cell_type": "code",
   "execution_count": 32,
   "metadata": {},
   "outputs": [],
   "source": [
    "### JOINING THE RESPONSE DATA TO THE GEOGRAPHICAL DATA\n",
    "response_ED_totals=SD_18_EDs.join(response_copy)"
   ]
  },
  {
   "cell_type": "code",
   "execution_count": 34,
   "metadata": {},
   "outputs": [],
   "source": [
    "response_ED_totals['ADED'] = response_ED_totals.index.copy()"
   ]
  },
  {
   "cell_type": "code",
   "execution_count": 36,
   "metadata": {},
   "outputs": [],
   "source": [
    "### WRITING THE JOINED FILE, A NEW GEOGRAPHICAL DATA FILE TO A NEW SHAPEFILE\n",
    "response_ED_totals.to_file('SD_18_response.shp')"
   ]
  }
 ],
 "metadata": {
  "kernelspec": {
   "display_name": "Python 3",
   "language": "python",
   "name": "python3"
  },
  "language_info": {
   "codemirror_mode": {
    "name": "ipython",
    "version": 3
   },
   "file_extension": ".py",
   "mimetype": "text/x-python",
   "name": "python",
   "nbconvert_exporter": "python",
   "pygments_lexer": "ipython3",
   "version": "3.6.2"
  }
 },
 "nbformat": 4,
 "nbformat_minor": 2
}
